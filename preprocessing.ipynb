{
 "cells": [
  {
   "cell_type": "code",
   "execution_count": 2,
   "id": "725cd395",
   "metadata": {},
   "outputs": [],
   "source": [
    "import numpy as np\n",
    "import matplotlib\n",
    "import pandas as pd\n",
    "import matplotlib.pyplot as plt\n",
    "from sklearn.model_selection import train_test_split\n",
    "from sklearn.preprocessing import StandardScaler, PolynomialFeatures\n",
    "\n",
    "# reads a file- processes data so it is:\n",
    "    # split\n",
    "    # scaled using standard scaler\n",
    "# returns X_train, X_test, y_train, y_test, df, cols\n",
    "# scaler=\"standard\" for standard scaler, \"poly\" for polynomial scaler <- ends up breaking a lot of things if enabled\n",
    "# deg=2 for polynomial sclr\n",
    "def readFile(path='winequality-red.csv', sclr=\"standard\", deg=2, drop_cols=[]):\n",
    "  df = pd.read_csv(path)\n",
    "  if len(drop_cols) > 0:\n",
    "    df = df.drop(drop_cols, axis=1)\n",
    "  df_drop = df.drop_duplicates()\n",
    "  data = df_drop.to_numpy()\n",
    "  X = data[:, :-1]\n",
    "  y = data[:, -1]\n",
    "\n",
    "  # splits data into test and train\n",
    "  X_train_unsl, X_test_unsl, y_train, y_test = train_test_split(X, y, test_size=0.2, random_state=42)\n",
    "  df_train = pd.DataFrame(np.hstack((X_train_unsl, y_train.reshape(-1, 1))), columns=df.columns)\n",
    "\n",
    "  # scales data\n",
    "  scaler = StandardScaler()\n",
    "  X_train = scaler.fit_transform(X_train_unsl)\n",
    "  X_test = scaler.transform(X_test_unsl)\n",
    "\n",
    "  if sclr == \"poly\": \n",
    "    scaler = PolynomialFeatures(degree=deg)\n",
    "  \n",
    "  X_train = scaler.fit_transform(X_train_unsl)\n",
    "  X_test = scaler.transform(X_test_unsl)\n",
    "\n",
    "  cols = df.columns\n",
    "  return X_train, X_test, y_train, y_test, df, df_train, cols\n",
    "\n",
    "def calcClass(y_train, y_test, threshold=5.5):\n",
    "  y_train_class = np.where(y_train > threshold, 1, 0)\n",
    "  y_test_class = np.where(y_test > threshold, 1, 0)\n",
    "  return y_train_class, y_test_class"
   ]
  }
 ],
 "metadata": {
  "kernelspec": {
   "display_name": "Python 3 (ipykernel)",
   "language": "python",
   "name": "python3"
  },
  "language_info": {
   "codemirror_mode": {
    "name": "ipython",
    "version": 3
   },
   "file_extension": ".py",
   "mimetype": "text/x-python",
   "name": "python",
   "nbconvert_exporter": "python",
   "pygments_lexer": "ipython3",
   "version": "3.9.13"
  }
 },
 "nbformat": 4,
 "nbformat_minor": 5
}
